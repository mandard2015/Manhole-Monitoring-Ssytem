{
 "cells": [
  {
   "cell_type": "code",
   "execution_count": 1,
   "metadata": {},
   "outputs": [],
   "source": [
    "import pandas as pd\n",
    "import numpy as np"
   ]
  },
  {
   "cell_type": "code",
   "execution_count": 9,
   "metadata": {},
   "outputs": [
    {
     "data": {
      "text/html": [
       "<div>\n",
       "<style scoped>\n",
       "    .dataframe tbody tr th:only-of-type {\n",
       "        vertical-align: middle;\n",
       "    }\n",
       "\n",
       "    .dataframe tbody tr th {\n",
       "        vertical-align: top;\n",
       "    }\n",
       "\n",
       "    .dataframe thead th {\n",
       "        text-align: right;\n",
       "    }\n",
       "</style>\n",
       "<table border=\"1\" class=\"dataframe\">\n",
       "  <thead>\n",
       "    <tr style=\"text-align: right;\">\n",
       "      <th></th>\n",
       "      <th>mq2</th>\n",
       "      <th>Date</th>\n",
       "      <th>Time</th>\n",
       "      <th>Water Level</th>\n",
       "      <th>Methane (ppm)</th>\n",
       "      <th>CO2 (ppm)</th>\n",
       "    </tr>\n",
       "  </thead>\n",
       "  <tbody>\n",
       "    <tr>\n",
       "      <td>0</td>\n",
       "      <td>674</td>\n",
       "      <td>01-01-2022</td>\n",
       "      <td>NaN</td>\n",
       "      <td>71.82</td>\n",
       "      <td>7166.12</td>\n",
       "      <td>8701.97</td>\n",
       "    </tr>\n",
       "    <tr>\n",
       "      <td>1</td>\n",
       "      <td>646</td>\n",
       "      <td>01-01-2022</td>\n",
       "      <td>NaN</td>\n",
       "      <td>75.71</td>\n",
       "      <td>2075.56</td>\n",
       "      <td>6941.34</td>\n",
       "    </tr>\n",
       "    <tr>\n",
       "      <td>2</td>\n",
       "      <td>590</td>\n",
       "      <td>01-01-2022</td>\n",
       "      <td>NaN</td>\n",
       "      <td>64.61</td>\n",
       "      <td>651.11</td>\n",
       "      <td>2576.00</td>\n",
       "    </tr>\n",
       "    <tr>\n",
       "      <td>3</td>\n",
       "      <td>627</td>\n",
       "      <td>01-01-2022</td>\n",
       "      <td>NaN</td>\n",
       "      <td>1.84</td>\n",
       "      <td>62.18</td>\n",
       "      <td>496.61</td>\n",
       "    </tr>\n",
       "    <tr>\n",
       "      <td>4</td>\n",
       "      <td>896</td>\n",
       "      <td>01-01-2022</td>\n",
       "      <td>NaN</td>\n",
       "      <td>58.11</td>\n",
       "      <td>620.25</td>\n",
       "      <td>2727.11</td>\n",
       "    </tr>\n",
       "  </tbody>\n",
       "</table>\n",
       "</div>"
      ],
      "text/plain": [
       "   mq2        Date  Time  Water Level  Methane (ppm)  CO2 (ppm)\n",
       "0  674  01-01-2022   NaN        71.82        7166.12    8701.97\n",
       "1  646  01-01-2022   NaN        75.71        2075.56    6941.34\n",
       "2  590  01-01-2022   NaN        64.61         651.11    2576.00\n",
       "3  627  01-01-2022   NaN         1.84          62.18     496.61\n",
       "4  896  01-01-2022   NaN        58.11         620.25    2727.11"
      ]
     },
     "execution_count": 9,
     "metadata": {},
     "output_type": "execute_result"
    }
   ],
   "source": [
    "df = pd.read_csv('E:/MANDAR/MANHOLE PROJECT/Manhole Monitoring System - fake_datasett.csv')\n",
    "df.head()"
   ]
  },
  {
   "cell_type": "code",
   "execution_count": 10,
   "metadata": {},
   "outputs": [
    {
     "data": {
      "text/plain": [
       "1844"
      ]
     },
     "execution_count": 10,
     "metadata": {},
     "output_type": "execute_result"
    }
   ],
   "source": [
    "len(df['mq2'])"
   ]
  },
  {
   "cell_type": "code",
   "execution_count": 11,
   "metadata": {},
   "outputs": [],
   "source": [
    "import random\n",
    "import csv\n",
    "from datetime import datetime, timedelta"
   ]
  },
  {
   "cell_type": "code",
   "execution_count": 12,
   "metadata": {},
   "outputs": [],
   "source": [
    "def generate_methane_level(mq2_level):\n",
    "    if  mq2_level <= 550:\n",
    "        return round(random.uniform(10, 100), 2)\n",
    "    elif mq2_level <= 730:\n",
    "        return round(random.uniform(100, 1000), 2)\n",
    "    else:\n",
    "        return round(random.uniform(1000, 8000), 2)\n",
    "    \n",
    "def generate_co2_level(mq2_level):\n",
    "    if mq2_level <= 550:\n",
    "        return round(random.uniform(200, 800), 2)\n",
    "    elif mq2_level <= 730:\n",
    "        return round(random.uniform(800, 3000), 2)\n",
    "    else:\n",
    "        return round(random.uniform(3000, 10000), 2)"
   ]
  },
  {
   "cell_type": "code",
   "execution_count": 13,
   "metadata": {},
   "outputs": [],
   "source": [
    "df['Methane (ppm)'] = df['mq2'].apply(lambda x: generate_methane_level(x))\n",
    "df['CO2 (ppm)'] = df['mq2'].apply(lambda x: generate_co2_level(x))"
   ]
  },
  {
   "cell_type": "code",
   "execution_count": 14,
   "metadata": {},
   "outputs": [
    {
     "data": {
      "text/html": [
       "<div>\n",
       "<style scoped>\n",
       "    .dataframe tbody tr th:only-of-type {\n",
       "        vertical-align: middle;\n",
       "    }\n",
       "\n",
       "    .dataframe tbody tr th {\n",
       "        vertical-align: top;\n",
       "    }\n",
       "\n",
       "    .dataframe thead th {\n",
       "        text-align: right;\n",
       "    }\n",
       "</style>\n",
       "<table border=\"1\" class=\"dataframe\">\n",
       "  <thead>\n",
       "    <tr style=\"text-align: right;\">\n",
       "      <th></th>\n",
       "      <th>mq2</th>\n",
       "      <th>Date</th>\n",
       "      <th>Time</th>\n",
       "      <th>Water Level</th>\n",
       "      <th>Methane (ppm)</th>\n",
       "      <th>CO2 (ppm)</th>\n",
       "    </tr>\n",
       "  </thead>\n",
       "  <tbody>\n",
       "    <tr>\n",
       "      <td>0</td>\n",
       "      <td>674</td>\n",
       "      <td>01-01-2022</td>\n",
       "      <td>NaN</td>\n",
       "      <td>71.82</td>\n",
       "      <td>960.20</td>\n",
       "      <td>2117.10</td>\n",
       "    </tr>\n",
       "    <tr>\n",
       "      <td>1</td>\n",
       "      <td>646</td>\n",
       "      <td>01-01-2022</td>\n",
       "      <td>NaN</td>\n",
       "      <td>75.71</td>\n",
       "      <td>219.93</td>\n",
       "      <td>911.19</td>\n",
       "    </tr>\n",
       "    <tr>\n",
       "      <td>2</td>\n",
       "      <td>590</td>\n",
       "      <td>01-01-2022</td>\n",
       "      <td>NaN</td>\n",
       "      <td>64.61</td>\n",
       "      <td>268.37</td>\n",
       "      <td>993.75</td>\n",
       "    </tr>\n",
       "    <tr>\n",
       "      <td>3</td>\n",
       "      <td>627</td>\n",
       "      <td>01-01-2022</td>\n",
       "      <td>NaN</td>\n",
       "      <td>1.84</td>\n",
       "      <td>426.10</td>\n",
       "      <td>1421.28</td>\n",
       "    </tr>\n",
       "    <tr>\n",
       "      <td>4</td>\n",
       "      <td>896</td>\n",
       "      <td>01-01-2022</td>\n",
       "      <td>NaN</td>\n",
       "      <td>58.11</td>\n",
       "      <td>1183.17</td>\n",
       "      <td>4334.22</td>\n",
       "    </tr>\n",
       "  </tbody>\n",
       "</table>\n",
       "</div>"
      ],
      "text/plain": [
       "   mq2        Date  Time  Water Level  Methane (ppm)  CO2 (ppm)\n",
       "0  674  01-01-2022   NaN        71.82         960.20    2117.10\n",
       "1  646  01-01-2022   NaN        75.71         219.93     911.19\n",
       "2  590  01-01-2022   NaN        64.61         268.37     993.75\n",
       "3  627  01-01-2022   NaN         1.84         426.10    1421.28\n",
       "4  896  01-01-2022   NaN        58.11        1183.17    4334.22"
      ]
     },
     "execution_count": 14,
     "metadata": {},
     "output_type": "execute_result"
    }
   ],
   "source": [
    "df.head()"
   ]
  },
  {
   "cell_type": "code",
   "execution_count": 15,
   "metadata": {},
   "outputs": [
    {
     "name": "stderr",
     "output_type": "stream",
     "text": [
      "C:\\Users\\MRUNAL\\Anaconda3\\lib\\site-packages\\ipykernel_launcher.py:3: SettingWithCopyWarning: \n",
      "A value is trying to be set on a copy of a slice from a DataFrame\n",
      "\n",
      "See the caveats in the documentation: http://pandas.pydata.org/pandas-docs/stable/user_guide/indexing.html#returning-a-view-versus-a-copy\n",
      "  This is separate from the ipykernel package so we can avoid doing imports until\n"
     ]
    },
    {
     "data": {
      "text/html": [
       "<div>\n",
       "<style scoped>\n",
       "    .dataframe tbody tr th:only-of-type {\n",
       "        vertical-align: middle;\n",
       "    }\n",
       "\n",
       "    .dataframe tbody tr th {\n",
       "        vertical-align: top;\n",
       "    }\n",
       "\n",
       "    .dataframe thead th {\n",
       "        text-align: right;\n",
       "    }\n",
       "</style>\n",
       "<table border=\"1\" class=\"dataframe\">\n",
       "  <thead>\n",
       "    <tr style=\"text-align: right;\">\n",
       "      <th></th>\n",
       "      <th>mq2</th>\n",
       "      <th>Date</th>\n",
       "      <th>Time</th>\n",
       "      <th>Water Level</th>\n",
       "      <th>Methane (ppm)</th>\n",
       "      <th>CO2 (ppm)</th>\n",
       "    </tr>\n",
       "  </thead>\n",
       "  <tbody>\n",
       "    <tr>\n",
       "      <td>0</td>\n",
       "      <td>674</td>\n",
       "      <td>01-01-2022</td>\n",
       "      <td>NaN</td>\n",
       "      <td>18.0</td>\n",
       "      <td>960.20</td>\n",
       "      <td>2117.10</td>\n",
       "    </tr>\n",
       "    <tr>\n",
       "      <td>1</td>\n",
       "      <td>646</td>\n",
       "      <td>01-01-2022</td>\n",
       "      <td>NaN</td>\n",
       "      <td>45.3</td>\n",
       "      <td>219.93</td>\n",
       "      <td>911.19</td>\n",
       "    </tr>\n",
       "    <tr>\n",
       "      <td>2</td>\n",
       "      <td>590</td>\n",
       "      <td>01-01-2022</td>\n",
       "      <td>NaN</td>\n",
       "      <td>73.9</td>\n",
       "      <td>268.37</td>\n",
       "      <td>993.75</td>\n",
       "    </tr>\n",
       "    <tr>\n",
       "      <td>3</td>\n",
       "      <td>627</td>\n",
       "      <td>01-01-2022</td>\n",
       "      <td>NaN</td>\n",
       "      <td>14.5</td>\n",
       "      <td>426.10</td>\n",
       "      <td>1421.28</td>\n",
       "    </tr>\n",
       "    <tr>\n",
       "      <td>4</td>\n",
       "      <td>896</td>\n",
       "      <td>01-01-2022</td>\n",
       "      <td>NaN</td>\n",
       "      <td>35.2</td>\n",
       "      <td>1183.17</td>\n",
       "      <td>4334.22</td>\n",
       "    </tr>\n",
       "  </tbody>\n",
       "</table>\n",
       "</div>"
      ],
      "text/plain": [
       "   mq2        Date  Time  Water Level  Methane (ppm)  CO2 (ppm)\n",
       "0  674  01-01-2022   NaN         18.0         960.20    2117.10\n",
       "1  646  01-01-2022   NaN         45.3         219.93     911.19\n",
       "2  590  01-01-2022   NaN         73.9         268.37     993.75\n",
       "3  627  01-01-2022   NaN         14.5         426.10    1421.28\n",
       "4  896  01-01-2022   NaN         35.2        1183.17    4334.22"
      ]
     },
     "execution_count": 15,
     "metadata": {},
     "output_type": "execute_result"
    }
   ],
   "source": [
    "start_date = datetime(2022, 3, 10)\n",
    "for i in range(len(df['mq2'])):\n",
    "    df['Water Level'][i] = round(random.uniform(5, 100), 1)    \n",
    "df.head()"
   ]
  },
  {
   "cell_type": "code",
   "execution_count": 16,
   "metadata": {},
   "outputs": [],
   "source": [
    "df['Date'] = pd.date_range(start='10/3/2022', periods=len(df), freq='30T')"
   ]
  },
  {
   "cell_type": "code",
   "execution_count": 17,
   "metadata": {},
   "outputs": [],
   "source": [
    "df['Dates'] = pd.to_datetime(df['Date']).dt.date\n",
    "df['Time'] = pd.to_datetime(df['Date']).dt.time"
   ]
  },
  {
   "cell_type": "code",
   "execution_count": 18,
   "metadata": {},
   "outputs": [],
   "source": [
    "df=df.drop('Date', axis=1)"
   ]
  },
  {
   "cell_type": "code",
   "execution_count": 19,
   "metadata": {},
   "outputs": [
    {
     "data": {
      "text/html": [
       "<div>\n",
       "<style scoped>\n",
       "    .dataframe tbody tr th:only-of-type {\n",
       "        vertical-align: middle;\n",
       "    }\n",
       "\n",
       "    .dataframe tbody tr th {\n",
       "        vertical-align: top;\n",
       "    }\n",
       "\n",
       "    .dataframe thead th {\n",
       "        text-align: right;\n",
       "    }\n",
       "</style>\n",
       "<table border=\"1\" class=\"dataframe\">\n",
       "  <thead>\n",
       "    <tr style=\"text-align: right;\">\n",
       "      <th></th>\n",
       "      <th>mq2</th>\n",
       "      <th>Time</th>\n",
       "      <th>Water Level</th>\n",
       "      <th>Methane (ppm)</th>\n",
       "      <th>CO2 (ppm)</th>\n",
       "      <th>Dates</th>\n",
       "    </tr>\n",
       "  </thead>\n",
       "  <tbody>\n",
       "    <tr>\n",
       "      <td>0</td>\n",
       "      <td>674</td>\n",
       "      <td>00:00:00</td>\n",
       "      <td>18.0</td>\n",
       "      <td>960.20</td>\n",
       "      <td>2117.10</td>\n",
       "      <td>2022-10-03</td>\n",
       "    </tr>\n",
       "    <tr>\n",
       "      <td>1</td>\n",
       "      <td>646</td>\n",
       "      <td>00:30:00</td>\n",
       "      <td>45.3</td>\n",
       "      <td>219.93</td>\n",
       "      <td>911.19</td>\n",
       "      <td>2022-10-03</td>\n",
       "    </tr>\n",
       "    <tr>\n",
       "      <td>2</td>\n",
       "      <td>590</td>\n",
       "      <td>01:00:00</td>\n",
       "      <td>73.9</td>\n",
       "      <td>268.37</td>\n",
       "      <td>993.75</td>\n",
       "      <td>2022-10-03</td>\n",
       "    </tr>\n",
       "    <tr>\n",
       "      <td>3</td>\n",
       "      <td>627</td>\n",
       "      <td>01:30:00</td>\n",
       "      <td>14.5</td>\n",
       "      <td>426.10</td>\n",
       "      <td>1421.28</td>\n",
       "      <td>2022-10-03</td>\n",
       "    </tr>\n",
       "    <tr>\n",
       "      <td>4</td>\n",
       "      <td>896</td>\n",
       "      <td>02:00:00</td>\n",
       "      <td>35.2</td>\n",
       "      <td>1183.17</td>\n",
       "      <td>4334.22</td>\n",
       "      <td>2022-10-03</td>\n",
       "    </tr>\n",
       "  </tbody>\n",
       "</table>\n",
       "</div>"
      ],
      "text/plain": [
       "   mq2      Time  Water Level  Methane (ppm)  CO2 (ppm)       Dates\n",
       "0  674  00:00:00         18.0         960.20    2117.10  2022-10-03\n",
       "1  646  00:30:00         45.3         219.93     911.19  2022-10-03\n",
       "2  590  01:00:00         73.9         268.37     993.75  2022-10-03\n",
       "3  627  01:30:00         14.5         426.10    1421.28  2022-10-03\n",
       "4  896  02:00:00         35.2        1183.17    4334.22  2022-10-03"
      ]
     },
     "execution_count": 19,
     "metadata": {},
     "output_type": "execute_result"
    }
   ],
   "source": [
    "df.head()"
   ]
  },
  {
   "cell_type": "code",
   "execution_count": 20,
   "metadata": {},
   "outputs": [
    {
     "data": {
      "text/html": [
       "<div>\n",
       "<style scoped>\n",
       "    .dataframe tbody tr th:only-of-type {\n",
       "        vertical-align: middle;\n",
       "    }\n",
       "\n",
       "    .dataframe tbody tr th {\n",
       "        vertical-align: top;\n",
       "    }\n",
       "\n",
       "    .dataframe thead th {\n",
       "        text-align: right;\n",
       "    }\n",
       "</style>\n",
       "<table border=\"1\" class=\"dataframe\">\n",
       "  <thead>\n",
       "    <tr style=\"text-align: right;\">\n",
       "      <th></th>\n",
       "      <th>mq2</th>\n",
       "      <th>Water Level</th>\n",
       "      <th>Methane (ppm)</th>\n",
       "      <th>CO2 (ppm)</th>\n",
       "    </tr>\n",
       "  </thead>\n",
       "  <tbody>\n",
       "    <tr>\n",
       "      <td>count</td>\n",
       "      <td>1844.000000</td>\n",
       "      <td>1844.000000</td>\n",
       "      <td>1844.000000</td>\n",
       "      <td>1844.000000</td>\n",
       "    </tr>\n",
       "    <tr>\n",
       "      <td>mean</td>\n",
       "      <td>653.442516</td>\n",
       "      <td>52.869740</td>\n",
       "      <td>1454.953856</td>\n",
       "      <td>2654.530076</td>\n",
       "    </tr>\n",
       "    <tr>\n",
       "      <td>std</td>\n",
       "      <td>173.404324</td>\n",
       "      <td>27.502648</td>\n",
       "      <td>2123.835381</td>\n",
       "      <td>2572.497448</td>\n",
       "    </tr>\n",
       "    <tr>\n",
       "      <td>min</td>\n",
       "      <td>346.000000</td>\n",
       "      <td>5.000000</td>\n",
       "      <td>10.140000</td>\n",
       "      <td>200.760000</td>\n",
       "    </tr>\n",
       "    <tr>\n",
       "      <td>25%</td>\n",
       "      <td>517.000000</td>\n",
       "      <td>29.275000</td>\n",
       "      <td>79.067500</td>\n",
       "      <td>668.595000</td>\n",
       "    </tr>\n",
       "    <tr>\n",
       "      <td>50%</td>\n",
       "      <td>622.000000</td>\n",
       "      <td>53.100000</td>\n",
       "      <td>495.010000</td>\n",
       "      <td>1825.770000</td>\n",
       "    </tr>\n",
       "    <tr>\n",
       "      <td>75%</td>\n",
       "      <td>746.000000</td>\n",
       "      <td>76.300000</td>\n",
       "      <td>1550.710000</td>\n",
       "      <td>3486.497500</td>\n",
       "    </tr>\n",
       "    <tr>\n",
       "      <td>max</td>\n",
       "      <td>1388.000000</td>\n",
       "      <td>100.000000</td>\n",
       "      <td>7996.540000</td>\n",
       "      <td>9983.750000</td>\n",
       "    </tr>\n",
       "  </tbody>\n",
       "</table>\n",
       "</div>"
      ],
      "text/plain": [
       "               mq2  Water Level  Methane (ppm)    CO2 (ppm)\n",
       "count  1844.000000  1844.000000    1844.000000  1844.000000\n",
       "mean    653.442516    52.869740    1454.953856  2654.530076\n",
       "std     173.404324    27.502648    2123.835381  2572.497448\n",
       "min     346.000000     5.000000      10.140000   200.760000\n",
       "25%     517.000000    29.275000      79.067500   668.595000\n",
       "50%     622.000000    53.100000     495.010000  1825.770000\n",
       "75%     746.000000    76.300000    1550.710000  3486.497500\n",
       "max    1388.000000   100.000000    7996.540000  9983.750000"
      ]
     },
     "execution_count": 20,
     "metadata": {},
     "output_type": "execute_result"
    }
   ],
   "source": [
    "df.describe()"
   ]
  },
  {
   "cell_type": "code",
   "execution_count": 21,
   "metadata": {},
   "outputs": [
    {
     "data": {
      "text/html": [
       "<div>\n",
       "<style scoped>\n",
       "    .dataframe tbody tr th:only-of-type {\n",
       "        vertical-align: middle;\n",
       "    }\n",
       "\n",
       "    .dataframe tbody tr th {\n",
       "        vertical-align: top;\n",
       "    }\n",
       "\n",
       "    .dataframe thead th {\n",
       "        text-align: right;\n",
       "    }\n",
       "</style>\n",
       "<table border=\"1\" class=\"dataframe\">\n",
       "  <thead>\n",
       "    <tr style=\"text-align: right;\">\n",
       "      <th></th>\n",
       "      <th>mq2</th>\n",
       "      <th>Time</th>\n",
       "      <th>Water Level</th>\n",
       "      <th>Methane (ppm)</th>\n",
       "      <th>CO2 (ppm)</th>\n",
       "      <th>Dates</th>\n",
       "      <th>Methane Alert</th>\n",
       "      <th>CO2 Alert</th>\n",
       "    </tr>\n",
       "  </thead>\n",
       "  <tbody>\n",
       "    <tr>\n",
       "      <td>0</td>\n",
       "      <td>674</td>\n",
       "      <td>00:00:00</td>\n",
       "      <td>18.0</td>\n",
       "      <td>960.20</td>\n",
       "      <td>2117.10</td>\n",
       "      <td>2022-10-03</td>\n",
       "      <td>False</td>\n",
       "      <td>False</td>\n",
       "    </tr>\n",
       "    <tr>\n",
       "      <td>1</td>\n",
       "      <td>646</td>\n",
       "      <td>00:30:00</td>\n",
       "      <td>45.3</td>\n",
       "      <td>219.93</td>\n",
       "      <td>911.19</td>\n",
       "      <td>2022-10-03</td>\n",
       "      <td>False</td>\n",
       "      <td>False</td>\n",
       "    </tr>\n",
       "    <tr>\n",
       "      <td>2</td>\n",
       "      <td>590</td>\n",
       "      <td>01:00:00</td>\n",
       "      <td>73.9</td>\n",
       "      <td>268.37</td>\n",
       "      <td>993.75</td>\n",
       "      <td>2022-10-03</td>\n",
       "      <td>False</td>\n",
       "      <td>False</td>\n",
       "    </tr>\n",
       "    <tr>\n",
       "      <td>3</td>\n",
       "      <td>627</td>\n",
       "      <td>01:30:00</td>\n",
       "      <td>14.5</td>\n",
       "      <td>426.10</td>\n",
       "      <td>1421.28</td>\n",
       "      <td>2022-10-03</td>\n",
       "      <td>False</td>\n",
       "      <td>False</td>\n",
       "    </tr>\n",
       "    <tr>\n",
       "      <td>4</td>\n",
       "      <td>896</td>\n",
       "      <td>02:00:00</td>\n",
       "      <td>35.2</td>\n",
       "      <td>1183.17</td>\n",
       "      <td>4334.22</td>\n",
       "      <td>2022-10-03</td>\n",
       "      <td>True</td>\n",
       "      <td>True</td>\n",
       "    </tr>\n",
       "  </tbody>\n",
       "</table>\n",
       "</div>"
      ],
      "text/plain": [
       "   mq2      Time  Water Level  Methane (ppm)  CO2 (ppm)       Dates  \\\n",
       "0  674  00:00:00         18.0         960.20    2117.10  2022-10-03   \n",
       "1  646  00:30:00         45.3         219.93     911.19  2022-10-03   \n",
       "2  590  01:00:00         73.9         268.37     993.75  2022-10-03   \n",
       "3  627  01:30:00         14.5         426.10    1421.28  2022-10-03   \n",
       "4  896  02:00:00         35.2        1183.17    4334.22  2022-10-03   \n",
       "\n",
       "   Methane Alert  CO2 Alert  \n",
       "0          False      False  \n",
       "1          False      False  \n",
       "2          False      False  \n",
       "3          False      False  \n",
       "4           True       True  "
      ]
     },
     "execution_count": 21,
     "metadata": {},
     "output_type": "execute_result"
    }
   ],
   "source": [
    "# Set the threshold values for methane and CO2\n",
    "methane_threshold = 1000\n",
    "co2_threshold = 3000\n",
    "\n",
    "# Apply threshold checks and generate alerts\n",
    "df['Methane Alert'] = df['Methane (ppm)'] > methane_threshold\n",
    "df['CO2 Alert'] = df['CO2 (ppm)'] > co2_threshold\n",
    "df.head()"
   ]
  },
  {
   "cell_type": "code",
   "execution_count": 67,
   "metadata": {},
   "outputs": [],
   "source": [
    "//df.to_csv('manhole final.csv', index=False)"
   ]
  },
  {
   "cell_type": "code",
   "execution_count": 113,
   "metadata": {},
   "outputs": [],
   "source": [
    "df['Dates'] = df['Dates'].astype(str)\n",
    "df['Time'] = df['Time'].astype(str)"
   ]
  },
  {
   "cell_type": "code",
   "execution_count": 22,
   "metadata": {},
   "outputs": [],
   "source": [
    "df=df.drop('Dates', axis=1)"
   ]
  },
  {
   "cell_type": "code",
   "execution_count": 70,
   "metadata": {},
   "outputs": [],
   "source": [
    "X = df.drop('Methane Alert', axis=1)\n",
    "y_methane = df['Methane Alert']\n",
    "y_co2 = df['CO2 Alert']"
   ]
  },
  {
   "cell_type": "code",
   "execution_count": 71,
   "metadata": {},
   "outputs": [],
   "source": [
    "X = X.drop('CO2 Alert', axis=1)"
   ]
  },
  {
   "cell_type": "code",
   "execution_count": 58,
   "metadata": {},
   "outputs": [],
   "source": [
    "X = X.drop('CO2 (ppm)', axis=1)"
   ]
  },
  {
   "cell_type": "code",
   "execution_count": 63,
   "metadata": {},
   "outputs": [],
   "source": [
    "X = X.drop('mq2', axis=1)"
   ]
  },
  {
   "cell_type": "code",
   "execution_count": 72,
   "metadata": {},
   "outputs": [
    {
     "data": {
      "text/html": [
       "<div>\n",
       "<style scoped>\n",
       "    .dataframe tbody tr th:only-of-type {\n",
       "        vertical-align: middle;\n",
       "    }\n",
       "\n",
       "    .dataframe tbody tr th {\n",
       "        vertical-align: top;\n",
       "    }\n",
       "\n",
       "    .dataframe thead th {\n",
       "        text-align: right;\n",
       "    }\n",
       "</style>\n",
       "<table border=\"1\" class=\"dataframe\">\n",
       "  <thead>\n",
       "    <tr style=\"text-align: right;\">\n",
       "      <th></th>\n",
       "      <th>mq2</th>\n",
       "      <th>Time</th>\n",
       "      <th>Water Level</th>\n",
       "      <th>Methane (ppm)</th>\n",
       "      <th>CO2 (ppm)</th>\n",
       "    </tr>\n",
       "  </thead>\n",
       "  <tbody>\n",
       "    <tr>\n",
       "      <td>0</td>\n",
       "      <td>674</td>\n",
       "      <td>00:00:00</td>\n",
       "      <td>18.0</td>\n",
       "      <td>960.20</td>\n",
       "      <td>2117.10</td>\n",
       "    </tr>\n",
       "    <tr>\n",
       "      <td>1</td>\n",
       "      <td>646</td>\n",
       "      <td>00:30:00</td>\n",
       "      <td>45.3</td>\n",
       "      <td>219.93</td>\n",
       "      <td>911.19</td>\n",
       "    </tr>\n",
       "    <tr>\n",
       "      <td>2</td>\n",
       "      <td>590</td>\n",
       "      <td>01:00:00</td>\n",
       "      <td>73.9</td>\n",
       "      <td>268.37</td>\n",
       "      <td>993.75</td>\n",
       "    </tr>\n",
       "    <tr>\n",
       "      <td>3</td>\n",
       "      <td>627</td>\n",
       "      <td>01:30:00</td>\n",
       "      <td>14.5</td>\n",
       "      <td>426.10</td>\n",
       "      <td>1421.28</td>\n",
       "    </tr>\n",
       "    <tr>\n",
       "      <td>4</td>\n",
       "      <td>896</td>\n",
       "      <td>02:00:00</td>\n",
       "      <td>35.2</td>\n",
       "      <td>1183.17</td>\n",
       "      <td>4334.22</td>\n",
       "    </tr>\n",
       "    <tr>\n",
       "      <td>...</td>\n",
       "      <td>...</td>\n",
       "      <td>...</td>\n",
       "      <td>...</td>\n",
       "      <td>...</td>\n",
       "      <td>...</td>\n",
       "    </tr>\n",
       "    <tr>\n",
       "      <td>1839</td>\n",
       "      <td>826</td>\n",
       "      <td>07:30:00</td>\n",
       "      <td>92.5</td>\n",
       "      <td>3997.20</td>\n",
       "      <td>4158.94</td>\n",
       "    </tr>\n",
       "    <tr>\n",
       "      <td>1840</td>\n",
       "      <td>821</td>\n",
       "      <td>08:00:00</td>\n",
       "      <td>27.5</td>\n",
       "      <td>4073.88</td>\n",
       "      <td>3887.42</td>\n",
       "    </tr>\n",
       "    <tr>\n",
       "      <td>1841</td>\n",
       "      <td>832</td>\n",
       "      <td>08:30:00</td>\n",
       "      <td>79.6</td>\n",
       "      <td>6545.17</td>\n",
       "      <td>3455.47</td>\n",
       "    </tr>\n",
       "    <tr>\n",
       "      <td>1842</td>\n",
       "      <td>840</td>\n",
       "      <td>09:00:00</td>\n",
       "      <td>91.6</td>\n",
       "      <td>3987.65</td>\n",
       "      <td>6094.62</td>\n",
       "    </tr>\n",
       "    <tr>\n",
       "      <td>1843</td>\n",
       "      <td>840</td>\n",
       "      <td>09:30:00</td>\n",
       "      <td>29.7</td>\n",
       "      <td>2569.91</td>\n",
       "      <td>5074.99</td>\n",
       "    </tr>\n",
       "  </tbody>\n",
       "</table>\n",
       "<p>1844 rows × 5 columns</p>\n",
       "</div>"
      ],
      "text/plain": [
       "      mq2      Time  Water Level  Methane (ppm)  CO2 (ppm)\n",
       "0     674  00:00:00         18.0         960.20    2117.10\n",
       "1     646  00:30:00         45.3         219.93     911.19\n",
       "2     590  01:00:00         73.9         268.37     993.75\n",
       "3     627  01:30:00         14.5         426.10    1421.28\n",
       "4     896  02:00:00         35.2        1183.17    4334.22\n",
       "...   ...       ...          ...            ...        ...\n",
       "1839  826  07:30:00         92.5        3997.20    4158.94\n",
       "1840  821  08:00:00         27.5        4073.88    3887.42\n",
       "1841  832  08:30:00         79.6        6545.17    3455.47\n",
       "1842  840  09:00:00         91.6        3987.65    6094.62\n",
       "1843  840  09:30:00         29.7        2569.91    5074.99\n",
       "\n",
       "[1844 rows x 5 columns]"
      ]
     },
     "execution_count": 72,
     "metadata": {},
     "output_type": "execute_result"
    }
   ],
   "source": [
    "X"
   ]
  },
  {
   "cell_type": "code",
   "execution_count": 73,
   "metadata": {},
   "outputs": [],
   "source": [
    "X_train, X_test, y_train, y_test = train_test_split(X, y_methane, test_size=0.2, random_state=42)"
   ]
  },
  {
   "cell_type": "code",
   "execution_count": 74,
   "metadata": {},
   "outputs": [
    {
     "name": "stderr",
     "output_type": "stream",
     "text": [
      "C:\\Users\\MRUNAL\\Anaconda3\\lib\\site-packages\\sklearn\\ensemble\\forest.py:245: FutureWarning: The default value of n_estimators will change from 10 in version 0.20 to 100 in 0.22.\n",
      "  \"10 in version 0.20 to 100 in 0.22.\", FutureWarning)\n"
     ]
    }
   ],
   "source": [
    "from sklearn.ensemble import RandomForestClassifier\n",
    "\n",
    "rclassifier = RandomForestClassifier(criterion='entropy', random_state=0)  \n",
    "rclassifier.fit(X_train._get_numeric_data(), y_train)\n",
    "\n",
    "dt_y_pred= rclassifier.predict(X_test._get_numeric_data())\n",
    "\n",
    "from sklearn.metrics import accuracy_score,precision_score,recall_score\n",
    "scor1e=accuracy_score(y_test,dt_y_pred)\n"
   ]
  },
  {
   "cell_type": "code",
   "execution_count": 75,
   "metadata": {},
   "outputs": [
    {
     "data": {
      "text/plain": [
       "1.0"
      ]
     },
     "execution_count": 75,
     "metadata": {},
     "output_type": "execute_result"
    }
   ],
   "source": [
    "scor1e"
   ]
  },
  {
   "cell_type": "code",
   "execution_count": 68,
   "metadata": {},
   "outputs": [],
   "source": [
    "from sklearn.tree import DecisionTreeClassifier\n",
    "classifier = DecisionTreeClassifier(criterion='entropy', random_state=0)\n",
    "classifier.fit(X_train._get_numeric_data(), y_train)\n",
    "\n",
    "dt_y_pred= classifier.predict(X_test._get_numeric_data())"
   ]
  },
  {
   "cell_type": "code",
   "execution_count": 69,
   "metadata": {},
   "outputs": [
    {
     "data": {
      "text/plain": [
       "1.0"
      ]
     },
     "execution_count": 69,
     "metadata": {},
     "output_type": "execute_result"
    }
   ],
   "source": [
    "score=accuracy_score(y_test,dt_y_pred)\n",
    "score"
   ]
  },
  {
   "cell_type": "code",
   "execution_count": 69,
   "metadata": {},
   "outputs": [
    {
     "name": "stdout",
     "output_type": "stream",
     "text": [
      "Requirement already satisfied: scikit-learn in c:\\users\\mrunal\\anaconda3\\lib\\site-packages (0.21.3)\n",
      "Collecting xgboost\n",
      "  Downloading https://files.pythonhosted.org/packages/24/14/d9ecb9fa86727f51bfb35f1c2b0428ebc6cd5ffde24c5e2dc583d3575a6f/xgboost-1.6.2-py3-none-win_amd64.whl (125.4MB)\n",
      "Requirement already satisfied: joblib>=0.11 in c:\\users\\mrunal\\anaconda3\\lib\\site-packages (from scikit-learn) (0.13.2)\n",
      "Requirement already satisfied: numpy>=1.11.0 in c:\\users\\mrunal\\anaconda3\\lib\\site-packages (from scikit-learn) (1.16.5)\n",
      "Requirement already satisfied: scipy>=0.17.0 in c:\\users\\mrunal\\anaconda3\\lib\\site-packages (from scikit-learn) (1.3.1)\n",
      "Installing collected packages: xgboost\n",
      "Successfully installed xgboost-1.6.2\n",
      "Note: you may need to restart the kernel to use updated packages.\n"
     ]
    }
   ],
   "source": [
    "pip install scikit-learn xgboost"
   ]
  },
  {
   "cell_type": "code",
   "execution_count": 23,
   "metadata": {},
   "outputs": [],
   "source": [
    "import xgboost as xgb\n",
    "from sklearn.model_selection import train_test_split\n",
    "from sklearn.metrics import accuracy_score, confusion_matrix\n",
    "from sklearn.metrics import mean_squared_error"
   ]
  },
  {
   "cell_type": "code",
   "execution_count": 55,
   "metadata": {},
   "outputs": [
    {
     "name": "stdout",
     "output_type": "stream",
     "text": [
      "MSE for Methane Prediction: 4.2746598e-10\n"
     ]
    }
   ],
   "source": [
    "X_train, X_test, y_train, y_test = train_test_split(X, y_methane, test_size=0.2, random_state=42)\n",
    "\n",
    "# Train the XGBoost model for methane prediction\n",
    "model_methane = xgb.XGBRegressor()\n",
    "model_methane.fit(X_train._get_numeric_data(), y_train)\n",
    "\n",
    "# Make predictions on the test set for methane\n",
    "y_pred_methane = model_methane.predict(X_test._get_numeric_data())\n",
    "\n",
    "# Evaluate the performance of the model for methane prediction\n",
    "mse_methane = mean_squared_error(y_test, y_pred_methane)\n",
    "print(\"MSE for Methane Prediction:\", mse_methane)"
   ]
  },
  {
   "cell_type": "code",
   "execution_count": null,
   "metadata": {},
   "outputs": [],
   "source": []
  }
 ],
 "metadata": {
  "kernelspec": {
   "display_name": "Python 3",
   "language": "python",
   "name": "python3"
  },
  "language_info": {
   "codemirror_mode": {
    "name": "ipython",
    "version": 3
   },
   "file_extension": ".py",
   "mimetype": "text/x-python",
   "name": "python",
   "nbconvert_exporter": "python",
   "pygments_lexer": "ipython3",
   "version": "3.7.4"
  }
 },
 "nbformat": 4,
 "nbformat_minor": 2
}
